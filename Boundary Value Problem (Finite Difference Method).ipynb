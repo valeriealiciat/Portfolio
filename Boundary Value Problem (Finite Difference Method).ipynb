{
 "cells": [
  {
   "cell_type": "markdown",
   "metadata": {},
   "source": [
    "We start by importing the required libraries"
   ]
  },
  {
   "cell_type": "code",
   "execution_count": 1,
   "metadata": {},
   "outputs": [],
   "source": [
    "import numpy as np \n",
    "import math\n",
    "import matplotlib.pyplot as plt\n",
    "import pandas as pd"
   ]
  },
  {
   "cell_type": "markdown",
   "metadata": {},
   "source": [
    "We will be using a finite difference method to approximate the BVP \n",
    "\n",
    "\n",
    "$$y'' +\\frac{π^{2}}{3}y = 0$$\n",
    "<center> with $$ y(0)=1.17, y(1) =10 $$\n",
    "    \n",
    "in the interval [0,1]. We will chose have N+1 points\n",
    "The boundary conditions impose\n",
    "$$x_{0}=0, x_{N}=1; y_{0}=1.17,y_{N}=10$$\n",
    "    \n",
    "To solve this BVP, we will convert the above BVP into a system difference equation which can be put into matrix form Ay=b. \n",
    "    \n",
    "<br>\n",
    "To construct matrix A, we\n",
    "Use the centred second order finite difference approximation for $y''$ at point $x_{i}$\n",
    "$$ y''(x_{i})= \\frac{y(x_{i+1}) -2y(x_{i}) + y(x_{i-1})}{h^{2}}+O(h^{2}) $$\n",
    "    \n",
    "Thus, substituting into $y'' +\\frac{π^{2}}{3}y = 0$, we have\n",
    "    $$  \\frac{y_{i+1} -2y_{i} + y_{i-1}}{h^{2}}+ \\frac{π^{2}}{3} y_{i}=0$$\n",
    "\n",
    "    For i=1,2,...,N-1\n",
    "    \n",
    "Factorizing this equation, we get\n",
    "    $$  (\\frac{π^{2}}{3} - \\frac{2}{h^{2}}) y_{i}+ \\frac{1}{h^{2}}y_{i-1}+ \\frac{1}{h^{2}} y_{i+1}=0$$\n",
    "   \n",
    "    \n",
    "<br>\n",
    "    Thus, we find linear equations for N-1 unknowns: <br>\n",
    "    \n",
    "<br>\n",
    "    For n=1<center> $  (\\frac{π^{2}}{3} - \\frac{2}{h^{2}}) y_{1}+ \\frac{1}{h^{2}} y_{2}= \\frac{-1.17}{h^{2}}$ <br> because we know that y(0)=1.17\n",
    "<br>\n",
    "    For n=N <center> $  (\\frac{π^{2}}{3} - \\frac{2}{h^{2}}) y_{N}+ \\frac{1}{h^{2}}y_{N-1}+ \\frac{1}{h^{2}} y_{N+1}=0$ ,for n = 2,...,N-2\n",
    "<br>\n",
    "For n = N-1 <center>$(\\frac{π^{2}}{3} - \\frac{2}{h^{2}}) y_{N-1}+ \\frac{1}{h^{2}} y_{N-2}=\\frac{-10}{h^{2}}$ <br> because we know that y(N)=10\n",
    "<br>\n",
    "\n",
    "Before computing the matrix, we need to find out the discrete time points. "
   ]
  },
  {
   "cell_type": "code",
   "execution_count": 2,
   "metadata": {},
   "outputs": [
    {
     "data": {
      "text/plain": [
       "20.0"
      ]
     },
     "execution_count": 2,
     "metadata": {},
     "output_type": "execute_result"
    }
   ],
   "source": [
    "#since we have \n",
    "h=0.05\n",
    "N= (1-0)/0.05\n",
    "N"
   ]
  },
  {
   "cell_type": "markdown",
   "metadata": {},
   "source": [
    "This means that we have N+1 discrete time points, i.e., 21 points.Thus, our discrete time point is"
   ]
  },
  {
   "cell_type": "code",
   "execution_count": 3,
   "metadata": {
    "scrolled": true
   },
   "outputs": [
    {
     "data": {
      "text/plain": [
       "array([0.  , 0.05, 0.1 , 0.15, 0.2 , 0.25, 0.3 , 0.35, 0.4 , 0.45, 0.5 ,\n",
       "       0.55, 0.6 , 0.65, 0.7 , 0.75, 0.8 , 0.85, 0.9 , 0.95, 1.  ])"
      ]
     },
     "execution_count": 3,
     "metadata": {},
     "output_type": "execute_result"
    }
   ],
   "source": [
    "x=np.linspace(0,1,21) #discrete time points with h=0.05\n",
    "x"
   ]
  },
  {
   "cell_type": "markdown",
   "metadata": {},
   "source": [
    "Now, we create a code to compute all the N-1 unknown points since we know the initial and final value to generate the matrix A."
   ]
  },
  {
   "cell_type": "code",
   "execution_count": 4,
   "metadata": {
    "scrolled": false
   },
   "outputs": [
    {
     "data": {
      "text/plain": [
       "array([[-796.71013187,  400.        ,    0.        ,    0.        ,\n",
       "           0.        ,    0.        ,    0.        ,    0.        ,\n",
       "           0.        ,    0.        ,    0.        ,    0.        ,\n",
       "           0.        ,    0.        ,    0.        ,    0.        ,\n",
       "           0.        ,    0.        ,    0.        ],\n",
       "       [ 400.        , -796.71013187,  400.        ,    0.        ,\n",
       "           0.        ,    0.        ,    0.        ,    0.        ,\n",
       "           0.        ,    0.        ,    0.        ,    0.        ,\n",
       "           0.        ,    0.        ,    0.        ,    0.        ,\n",
       "           0.        ,    0.        ,    0.        ],\n",
       "       [   0.        ,  400.        , -796.71013187,  400.        ,\n",
       "           0.        ,    0.        ,    0.        ,    0.        ,\n",
       "           0.        ,    0.        ,    0.        ,    0.        ,\n",
       "           0.        ,    0.        ,    0.        ,    0.        ,\n",
       "           0.        ,    0.        ,    0.        ],\n",
       "       [   0.        ,    0.        ,  400.        , -796.71013187,\n",
       "         400.        ,    0.        ,    0.        ,    0.        ,\n",
       "           0.        ,    0.        ,    0.        ,    0.        ,\n",
       "           0.        ,    0.        ,    0.        ,    0.        ,\n",
       "           0.        ,    0.        ,    0.        ],\n",
       "       [   0.        ,    0.        ,    0.        ,  400.        ,\n",
       "        -796.71013187,  400.        ,    0.        ,    0.        ,\n",
       "           0.        ,    0.        ,    0.        ,    0.        ,\n",
       "           0.        ,    0.        ,    0.        ,    0.        ,\n",
       "           0.        ,    0.        ,    0.        ],\n",
       "       [   0.        ,    0.        ,    0.        ,    0.        ,\n",
       "         400.        , -796.71013187,  400.        ,    0.        ,\n",
       "           0.        ,    0.        ,    0.        ,    0.        ,\n",
       "           0.        ,    0.        ,    0.        ,    0.        ,\n",
       "           0.        ,    0.        ,    0.        ],\n",
       "       [   0.        ,    0.        ,    0.        ,    0.        ,\n",
       "           0.        ,  400.        , -796.71013187,  400.        ,\n",
       "           0.        ,    0.        ,    0.        ,    0.        ,\n",
       "           0.        ,    0.        ,    0.        ,    0.        ,\n",
       "           0.        ,    0.        ,    0.        ],\n",
       "       [   0.        ,    0.        ,    0.        ,    0.        ,\n",
       "           0.        ,    0.        ,  400.        , -796.71013187,\n",
       "         400.        ,    0.        ,    0.        ,    0.        ,\n",
       "           0.        ,    0.        ,    0.        ,    0.        ,\n",
       "           0.        ,    0.        ,    0.        ],\n",
       "       [   0.        ,    0.        ,    0.        ,    0.        ,\n",
       "           0.        ,    0.        ,    0.        ,  400.        ,\n",
       "        -796.71013187,  400.        ,    0.        ,    0.        ,\n",
       "           0.        ,    0.        ,    0.        ,    0.        ,\n",
       "           0.        ,    0.        ,    0.        ],\n",
       "       [   0.        ,    0.        ,    0.        ,    0.        ,\n",
       "           0.        ,    0.        ,    0.        ,    0.        ,\n",
       "         400.        , -796.71013187,  400.        ,    0.        ,\n",
       "           0.        ,    0.        ,    0.        ,    0.        ,\n",
       "           0.        ,    0.        ,    0.        ],\n",
       "       [   0.        ,    0.        ,    0.        ,    0.        ,\n",
       "           0.        ,    0.        ,    0.        ,    0.        ,\n",
       "           0.        ,  400.        , -796.71013187,  400.        ,\n",
       "           0.        ,    0.        ,    0.        ,    0.        ,\n",
       "           0.        ,    0.        ,    0.        ],\n",
       "       [   0.        ,    0.        ,    0.        ,    0.        ,\n",
       "           0.        ,    0.        ,    0.        ,    0.        ,\n",
       "           0.        ,    0.        ,  400.        , -796.71013187,\n",
       "         400.        ,    0.        ,    0.        ,    0.        ,\n",
       "           0.        ,    0.        ,    0.        ],\n",
       "       [   0.        ,    0.        ,    0.        ,    0.        ,\n",
       "           0.        ,    0.        ,    0.        ,    0.        ,\n",
       "           0.        ,    0.        ,    0.        ,  400.        ,\n",
       "        -796.71013187,  400.        ,    0.        ,    0.        ,\n",
       "           0.        ,    0.        ,    0.        ],\n",
       "       [   0.        ,    0.        ,    0.        ,    0.        ,\n",
       "           0.        ,    0.        ,    0.        ,    0.        ,\n",
       "           0.        ,    0.        ,    0.        ,    0.        ,\n",
       "         400.        , -796.71013187,  400.        ,    0.        ,\n",
       "           0.        ,    0.        ,    0.        ],\n",
       "       [   0.        ,    0.        ,    0.        ,    0.        ,\n",
       "           0.        ,    0.        ,    0.        ,    0.        ,\n",
       "           0.        ,    0.        ,    0.        ,    0.        ,\n",
       "           0.        ,  400.        , -796.71013187,  400.        ,\n",
       "           0.        ,    0.        ,    0.        ],\n",
       "       [   0.        ,    0.        ,    0.        ,    0.        ,\n",
       "           0.        ,    0.        ,    0.        ,    0.        ,\n",
       "           0.        ,    0.        ,    0.        ,    0.        ,\n",
       "           0.        ,    0.        ,  400.        , -796.71013187,\n",
       "         400.        ,    0.        ,    0.        ],\n",
       "       [   0.        ,    0.        ,    0.        ,    0.        ,\n",
       "           0.        ,    0.        ,    0.        ,    0.        ,\n",
       "           0.        ,    0.        ,    0.        ,    0.        ,\n",
       "           0.        ,    0.        ,    0.        ,  400.        ,\n",
       "        -796.71013187,  400.        ,    0.        ],\n",
       "       [   0.        ,    0.        ,    0.        ,    0.        ,\n",
       "           0.        ,    0.        ,    0.        ,    0.        ,\n",
       "           0.        ,    0.        ,    0.        ,    0.        ,\n",
       "           0.        ,    0.        ,    0.        ,    0.        ,\n",
       "         400.        , -796.71013187,  400.        ],\n",
       "       [   0.        ,    0.        ,    0.        ,    0.        ,\n",
       "           0.        ,    0.        ,    0.        ,    0.        ,\n",
       "           0.        ,    0.        ,    0.        ,    0.        ,\n",
       "           0.        ,    0.        ,    0.        ,    0.        ,\n",
       "           0.        ,  400.        , -796.71013187]])"
      ]
     },
     "execution_count": 4,
     "metadata": {},
     "output_type": "execute_result"
    }
   ],
   "source": [
    "#Initialize using a zero matrix of 19x19 for the unknown points\n",
    "A = np.zeros((19, 19))\n",
    "\n",
    "#iterate the equations\n",
    "for i in range(0,19):\n",
    "        #for n=1\n",
    "        if i ==0:\n",
    "            A[i,i]= (math.pi**2)/3  - 2/h**2\n",
    "            A[i][i+1] = 1/h**2\n",
    "        #for n=N\n",
    "        elif i< 18:\n",
    "            A[i][i] = ((math.pi**2)/3  - 2/h**2)\n",
    "            A[i][i-1] =  1/h**2 \n",
    "            A[i][i+1] = 1/h**2\n",
    "        #for n=N-1\n",
    "        else:\n",
    "            A[i][i]=((math.pi**2)/3 -2/h**2)\n",
    "            A[i][i-1]= 1/h**2 \n",
    "A"
   ]
  },
  {
   "cell_type": "markdown",
   "metadata": {},
   "source": [
    "Since we know that the element for vector b is $\\frac{-1.17}{h^{2}}$, For n=1<center>  $0$ for n = 2,...,N-2 and $\\frac{-10}{h^{2}}$ For n = N-1 \n",
    "    \n",
    "We now can solve for x in Ax=b"
   ]
  },
  {
   "cell_type": "markdown",
   "metadata": {},
   "source": [
    "and insert the known initial and final values into solution matrix x"
   ]
  },
  {
   "cell_type": "code",
   "execution_count": 5,
   "metadata": {
    "scrolled": true
   },
   "outputs": [
    {
     "data": {
      "text/plain": [
       "array([ 1.17      ,  2.12506993,  3.06266186,  3.97506441,  4.85477336,\n",
       "        5.69455341,  6.48749763,  7.22708432,  7.90723062,  8.52234256,\n",
       "        9.06736104,  9.53780346,  9.9298006 , 10.2401284 , 10.46623452,\n",
       "       10.60625931, 10.65905111, 10.62417573, 10.50192001, 10.29328946,\n",
       "       10.        ])"
      ]
     },
     "execution_count": 5,
     "metadata": {},
     "output_type": "execute_result"
    }
   ],
   "source": [
    "#approximated solution\n",
    "b=np.zeros(19) # we start with a zero matrix\n",
    "b[0]=-1.17/h**2 # we know y0\n",
    "b[18]=-10/h**2 #we know yN\n",
    "ya=np.linalg.solve(A,b) # to solve the equation\n",
    "\n",
    "\n",
    "yb=np.insert(ya,19,10) #to add yN in the last element\n",
    "yy=np.append([1.17],yb ) #to add y0 in the 1st element\n",
    "yy #solution x"
   ]
  },
  {
   "cell_type": "markdown",
   "metadata": {},
   "source": [
    "To compute the exact solution, we use auxilary equation on $y''$\n",
    "\n",
    "<center>$m^{2} + \\frac{π^{2}}{3}m=0$ ; $y(0)=1.17$ ; $y(1)=10$\n",
    "\n",
    "<br>\n",
    "$m(m+\\frac{π^{2}}{3})=0 $\n",
    "<br>\n",
    "From solving this equation, we get the root solutions\n",
    "$m=0$ and $m=\\frac{π^{2}}{3}$\n",
    "\n",
    "\n",
    "<br>\n",
    "This implies that we have the general solution of \n",
    "$$y=Ccos(\\frac{π}{\\sqrt{3}}x) + Dsin(\\frac{π}{\\sqrt{3}}x)$$\n",
    "\n",
    "<br>\n",
    "When we apply the condition $y(0)=1.17$, we get\n",
    "$$y(0)=C=1.17$$\n",
    "\n",
    "<br>\n",
    "When we apply the condition $y(1)=10$, we obtain\n",
    "$$y(1) = 1.17cos(\\frac{π}{\\sqrt{3}}) + Dsin(\\frac{π}{\\sqrt{3}})$$ $$=10$$\n",
    "\n",
    "Thus we solve for D to get\n",
    "$$D= \\frac{10-1.17cos(\\frac{π}{\\sqrt{3}})}{sin(\\frac{π}{\\sqrt{3}})}$$\n",
    "\n",
    "Finally we get the particular solution\n",
    "\n",
    "$$y=1.17cos(\\frac{π}{\\sqrt{3}}x) + \\frac{10-1.17cos(\\frac{π}{\\sqrt{3}})}{sin(\\frac{π}{\\sqrt{3}})}sin(\\frac{π}{\\sqrt{3}}x)$$\n",
    "\n",
    "Now we can compute the 21 points of particular solutions in the interval [0,1] and insert them into an array"
   ]
  },
  {
   "cell_type": "code",
   "execution_count": 6,
   "metadata": {
    "scrolled": true
   },
   "outputs": [
    {
     "data": {
      "text/plain": [
       "array([ 1.17      ,  2.12453089,  3.06160019,  3.97350609,  4.85275361,\n",
       "        5.69211618,  6.48469504,  7.22397597,  7.90388279,  8.51882733,\n",
       "        9.06375532,  9.534188  ,  9.92625885, 10.23674543, 10.46309585,\n",
       "       10.60344972, 10.65665347, 10.62226981, 10.50058135, 10.29258825,\n",
       "       10.        ])"
      ]
     },
     "execution_count": 6,
     "metadata": {},
     "output_type": "execute_result"
    }
   ],
   "source": [
    "#particular solution\n",
    "YY=np.zeros(21) #create a zero vector\n",
    "x=np.linspace(0,1,21) #discrete time points\n",
    "y= lambda x: 1.17 * np.cos(np.pi * x/np.sqrt(3)) + (10- ( 1.17*np.cos(np.pi/np.sqrt(3)) ) ) /np.sin(np.pi/np.sqrt(3)) *np.sin(np.pi*x/np.sqrt(3))\n",
    "\n",
    "#initiate loop\n",
    "for i in range(0,21):\n",
    "    YY[i]=y(x[i])\n",
    "\n",
    "YY "
   ]
  },
  {
   "cell_type": "markdown",
   "metadata": {},
   "source": [
    "Now that we have both the approximate solution and exact solution, we can finaly plot the graph"
   ]
  },
  {
   "cell_type": "code",
   "execution_count": 7,
   "metadata": {
    "scrolled": true
   },
   "outputs": [
    {
     "data": {
      "text/plain": [
       "Text(0.5, 1.0, 'Approximated Solution vs Exact Solution')"
      ]
     },
     "execution_count": 7,
     "metadata": {},
     "output_type": "execute_result"
    },
    {
     "data": {
      "image/png": "[encoded data removed]",
      "text/plain": [
       "<Figure size 432x288 with 1 Axes>"
      ]
     },
     "metadata": {
      "needs_background": "light"
     },
     "output_type": "display_data"
    }
   ],
   "source": [
    "#plot\n",
    "plt.plot(x,YY,label='exact solutions') #exact sol\n",
    "plt.scatter(x,yy,color='r',label = 'approximated solutions') #approximation\n",
    "plt.legend()\n",
    "plt.ylabel('y')\n",
    "plt.xlabel('x')\n",
    "plt.title('Approximated Solution vs Exact Solution')\n"
   ]
  },
  {
   "cell_type": "code",
   "execution_count": null,
   "metadata": {},
   "outputs": [],
   "source": []
  }
 ],
 "metadata": {
  "kernelspec": {
   "display_name": "Python 3",
   "language": "python",
   "name": "python3"
  },
  "language_info": {
   "codemirror_mode": {
    "name": "ipython",
    "version": 3
   },
   "file_extension": ".py",
   "mimetype": "text/x-python",
   "name": "python",
   "nbconvert_exporter": "python",
   "pygments_lexer": "ipython3",
   "version": "3.8.5"
  }
 },
 "nbformat": 4,
 "nbformat_minor": 4
}
