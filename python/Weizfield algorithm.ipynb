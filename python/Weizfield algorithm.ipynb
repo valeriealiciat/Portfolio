{
 "cells": [
  {
   "cell_type": "code",
   "execution_count": 2,
   "metadata": {},
   "outputs": [],
   "source": [
    "import numpy as np\n",
    "import math"
   ]
  },
  {
   "cell_type": "markdown",
   "metadata": {},
   "source": [
    "As C. W. moves to London she needs to find an accomodation. She is very busy:\n",
    "(i) she goes to her college four days a week at 𝑎1 = (0, 0)\n",
    "<br>\n",
    "(ii) on Monday and Wednesday she plays chess at a friend’s house 𝑎2 = (3, 0)<br>\n",
    "(iii) on Tuesday and Thursday she plays in a badminton tournament at 𝑎3 = (3, 3) (iv) on Friday, Saturday and Sunday she plays in football tournaments at 𝑎4 = (0, 3). <br>\n",
    "C. W. also loves walking, she studies at the university library, and almost does not spend a single minute at home. Then, she seeks an accommodation which minimizes the cost of the subway. You can also assume that <br>\n",
    "(v) the cost of transportation is one pound for each kilometre <br>\n",
    "(vi) before going to any other place she needs first to come back home. <br>\n",
    "\n",
    "Provide optimal coordinates with least expense of the apartment with precision of a meter."
   ]
  },
  {
   "cell_type": "code",
   "execution_count": 3,
   "metadata": {},
   "outputs": [],
   "source": [
    "#b)  \n",
    "def norm(v):\n",
    "    V=0\n",
    "    for i in range(len(v)):\n",
    "        V+=v[i]**2\n",
    "    return math.sqrt(V)\n",
    "\n",
    "def div(n, d):\n",
    "    return n / d if d else 0 #to avoid division by zero\n",
    "\n",
    "#fermat problem function\n",
    "def K(x): \n",
    "    K=lambda x: norm(x-a[l])*w[l]\n",
    "    k=0\n",
    "    for l in range(len(a)):\n",
    "        k+= K(x)\n",
    "        \n",
    "    return k\n",
    "\n",
    "\n",
    "#time step \n",
    "def T(x): \n",
    "    B=lambda x:div(w[i],norm(x-a[i]))\n",
    "    b=0\n",
    "    for i in range(len(a)):\n",
    "        b+= B(x)\n",
    "        \n",
    "    return 1/b\n",
    "\n",
    "#gradient of the fermat problem function\n",
    "def G(x):\n",
    "    gr=0\n",
    "    g=lambda x: w[j]*(div(x-a[j],norm(x-a[j])))\n",
    "    for j in range(len(a)):\n",
    "        gr += g(x)\n",
    "    return gr\n",
    "\n",
    "\n",
    "#weizfeld algorithm (gradient method with timestep T)\n",
    "def weiz(x_0,t,f,g,epsilon):\n",
    "    num=0\n",
    "    x=x_0\n",
    "    \n",
    "    while(norm(g(x))> epsilon):\n",
    "        x=x-t(x)*g(x)\n",
    "        #return results\n",
    "    print(x)\n",
    "\n",
    "\n",
    "w=[4,2,2,3] #weight, or transportation cost per week (the frequency of her visit)\n",
    "a=np.array([[0,0],[3,0],[3,3],[0,3]]) #points of the location"
   ]
  },
  {
   "cell_type": "code",
   "execution_count": 4,
   "metadata": {},
   "outputs": [
    {
     "name": "stdout",
     "output_type": "stream",
     "text": [
      "[0.72763525 1.04398107]\n"
     ]
    }
   ],
   "source": [
    "#c)\n",
    "x0=np.array([1,1]) #initial guess\n",
    "\n",
    "weiz(x0,T,K,G,1e-5) #execute the function to find the point of optimization"
   ]
  },
  {
   "cell_type": "code",
   "execution_count": null,
   "metadata": {},
   "outputs": [],
   "source": []
  }
 ],
 "metadata": {
  "kernelspec": {
   "display_name": "Python 3",
   "language": "python",
   "name": "python3"
  },
  "language_info": {
   "codemirror_mode": {
    "name": "ipython",
    "version": 3
   },
   "file_extension": ".py",
   "mimetype": "text/x-python",
   "name": "python",
   "nbconvert_exporter": "python",
   "pygments_lexer": "ipython3",
   "version": "3.8.5"
  }
 },
 "nbformat": 4,
 "nbformat_minor": 4
}
