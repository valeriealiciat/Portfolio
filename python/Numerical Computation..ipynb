{
 "cells": [
  {
   "cell_type": "markdown",
   "metadata": {},
   "source": [
    "## Babylonian Method\n",
    "\n",
    "The Babylonian (or Heron’s) method for computing the square root of \n",
    "$a\\in\\mathbb{R}^{+}$ is summarised by the iterative sequence $(x_{n})$, where $x_{0}$ is an arbitrary starting value (ideally, $x_{0}\\approx\\sqrt{a}$, but this is not required) and \n",
    "$$\n",
    "x_{n+1}=\\frac{1}{2}\\left(x_{n}+\\frac{a}{x_{n}}\\right).\n",
    "$$\n",
    "\n",
    "Successive values are computed for $x_{n}$ until the desired level of accuracy is reached. Hence, if we desire the maximum error to be $e$, we stop when $n=N$, where \n",
    "$$\n",
    "\\left|x_{N}^{2}-a\\right|<e.\n",
    "$$\n",
    "\n",
    "**a)**\n",
    "\n",
    "Write a Python function called ‘babylonian_square_root' that \n",
    "- Takes as input three numbers $a$, $e$ and $x_{0}$. \n",
    "- Raises an assertion error if $a$ or $e$ are not positive numbers.\n",
    "- Uses the Babylonian method to estimate $\\sqrt{a}$ with maximum error $e$. \n",
    "- Returns the tuple $(x_{N},N)$ where $x_{N}$ is the sought approximation."
   ]
  },
  {
   "cell_type": "code",
   "execution_count": 1,
   "metadata": {},
   "outputs": [],
   "source": [
    "def babylonian_square_root(a,e,x0):\n",
    "    assert a>0,\"input value (a) is invalid\"\n",
    "    assert e>0,\"input value (e) is invalid\"\n",
    "    N=0\n",
    "    difference = abs(x0**2-a)\n",
    "    if difference<e:\n",
    "        print(x0)\n",
    "    else:\n",
    "        while difference>e:\n",
    "            if x0>0:\n",
    "                x0=1/2*(x0+a/x0)\n",
    "                difference = abs(x0**2-a)\n",
    "                N+=1\n",
    "            else:\n",
    "                x0=1/2*(-x0+a/-x0)\n",
    "                difference = abs(-x0**2-a)\n",
    "                N+=1  \n",
    "                \n",
    "            if difference<e:\n",
    "                t=[x0,N]\n",
    "                return tuple(t)"
   ]
  },
  {
   "cell_type": "markdown",
   "metadata": {},
   "source": [
    "**b)** \n",
    "Write a modified function that returns the whole list of approximations $[x_0,x_1,x_2,\\ldots,x_n]$ "
   ]
  },
  {
   "cell_type": "code",
   "execution_count": 2,
   "metadata": {},
   "outputs": [],
   "source": [
    "def babylonian_square_root_list(a,e,x0):\n",
    "    assert a>0,\"input value (a) is invalid\"\n",
    "    assert e>0,\"input value (e) is invalid\"\n",
    "    N=0\n",
    "    L=[x0]\n",
    "    difference = abs(x0**2-a)\n",
    "    if difference<e:\n",
    "        print(x0)\n",
    "    else:\n",
    "        while difference>e:\n",
    "            if x0>0:\n",
    "                x0=1/2*(x0+a/x0)\n",
    "                difference = abs(x0**2-a)\n",
    "                N+=1\n",
    "                L.append(x0)\n",
    "            else:\n",
    "                x0=1/2*(-x0+a/-x0)\n",
    "                difference = abs(-x0**2-a)\n",
    "                N+=1 \n",
    "                L.append(x0)\n",
    "            if difference<e:\n",
    "                return L"
   ]
  },
  {
   "cell_type": "markdown",
   "metadata": {},
   "source": [
    "**c)** Use the function from part b) to compute a list of approximations $(x_n)$ to $\\sqrt{20000}$ and use **pylab** to plot the points $x_n$ against $n$ as a scatterplot and in the same plot also add a horizontal red line corresponding to the value given by `math.sqrt(20000)` as well as appropriate legends for the plot and labels for the $x$ and $y$ axes. Please insert the plot in the cell below the function definition. "
   ]
  },
  {
   "cell_type": "code",
   "execution_count": 3,
   "metadata": {},
   "outputs": [],
   "source": [
    "import pylab\n",
    "def draw_plot(a):\n",
    "    data = babylonian_square_root_list(a,1e-10,1)\n",
    "    ys= data\n",
    "    xs=[x for x in range(len(ys))]\n",
    "    pylab.hlines(y = data[-1], xmin = 0, xmax = len(data),label=\"Value of sqrt(a)\",COLOR='red')\n",
    "    \n",
    "    pylab.scatter(xs,ys, label=\"Xn values \")\n",
    "    \n",
    "    pylab.legend(loc='upper right')\n",
    "    pylab.xlabel('n')\n",
    "    pylab.ylabel('Xn')\n",
    "    pylab.show()"
   ]
  },
  {
   "cell_type": "code",
   "execution_count": 4,
   "metadata": {},
   "outputs": [
    {
     "name": "stderr",
     "output_type": "stream",
     "text": [
      "<ipython-input-3-100576c4b4d6>:6: MatplotlibDeprecationWarning: Case-insensitive properties were deprecated in 3.3 and support will be removed two minor releases later\n",
      "  pylab.hlines(y = data[-1], xmin = 0, xmax = len(data),label=\"Value of sqrt(a)\",COLOR='red')\n"
     ]
    },
    {
     "data": {
      "image/png": "[encoded data removed]",
      "text/plain": [
       "<Figure size 432x288 with 1 Axes>"
      ]
     },
     "metadata": {
      "needs_background": "light"
     },
     "output_type": "display_data"
    }
   ],
   "source": [
    "draw_plot(20000)"
   ]
  },
  {
   "cell_type": "markdown",
   "metadata": {},
   "source": [
    "## Bernoulli numbers\n",
    "The Bernoulli numbers $B_{m}$, where $m=0,1,2,\\ldots$ are a sequence of rational numbers with many applications. \n",
    "The $m$th Bernoulli number can be defined explicitly by \n",
    "$$\n",
    "B_{m}=\\sum_{k=0}^{m}\\sum_{v=0}^{k}(-1)^{v}{k \\choose v}\\frac{v^{m}}{k+1}.\n",
    "$$\n",
    "It is easy to see that $B_0=1$ and it can be shown that $B_{m}=0$ for any odd $m>1$ and the first few non-zero values are\n",
    "\n",
    "$$\n",
    "B_0=1,\\quad B_1=-\\frac{1}{2},\\quad B_2=\\frac{1}{6}=0.166666\\ldots, \\quad B_4=-\\frac{1}{30}=-0.033333\\cdots\n",
    "$$\n",
    "**a)** Write a program which uses the formula above to compute the Bernoulli number $B_{m}$ for $0\\le m\\le 12$. \n",
    "\n",
    "Note that without using higher precision this algorithm is not very good for large $m$ due to catastrophic cancellation.\n"
   ]
  },
  {
   "cell_type": "code",
   "execution_count": 5,
   "metadata": {},
   "outputs": [],
   "source": [
    "import math\n",
    "def bernoulli(m):\n",
    "    r\"\"\"\n",
    "    A function that uses the `sum` formula to compute $B_m$\n",
    "    \"\"\"\n",
    "    if m == 0:\n",
    "        b=1\n",
    "        return b\n",
    "    elif m==1:\n",
    "        b=-0.5\n",
    "        return b\n",
    "    elif m>1 and m%2==1:\n",
    "        b=0\n",
    "        return b\n",
    "    else:\n",
    "        bm =sum(math.comb(m, k) * bernoulli(k) / (m - k + 1) for k in range(0,m)) \n",
    "        return -bm - 0.0000000000000001"
   ]
  },
  {
   "cell_type": "markdown",
   "metadata": {},
   "source": [
    "## Mclaurin Series\n",
    "\n",
    "**b)**\n",
    "The first n terms of the Maclaurin series of tan x are given by \n",
    "\n",
    "$$\n",
    "p_n(x) = \\sum_{k=1}^{n} \\frac{B_{2k}}{(2k)!}(−4)^k(1 − 4^k)x^{2k−1}\n",
    "$$\n",
    "Write a function to calculate $p_n(x)$ that works for at least $n=1,2,3$"
   ]
  },
  {
   "cell_type": "code",
   "execution_count": 6,
   "metadata": {},
   "outputs": [],
   "source": [
    "def pn(n,x):\n",
    "    r\"\"\"\n",
    "    Function that computes the $n$-th McLaurin polynomials for $\\tan$ at the point $x$. \n",
    "    \"\"\"\n",
    "    t=sum( (bernoulli(2*n)) * ((-4)**n) * (1 - 4**n) * (x ** (2*n - 1))  / (math.factorial(2*n)) for n in range(1,n+1))\n",
    "    return t"
   ]
  },
  {
   "cell_type": "markdown",
   "metadata": {},
   "source": [
    "## Tan Plot \n",
    "Plot the graphs of $\\tan(x)$, $p_1(x)$, $p_2(x)$ and $p_3(x)$ in the range \n",
    "$-\\frac{\\pi}{3}\\le x\\le \\frac{\\pi}{3}$\n",
    "in the same figure. The figure should have a legend that explains what each of the graphs represent as well as labels for the $x$ and $y$ axes. Please insert the plot in the cell below the function definition."
   ]
  },
  {
   "cell_type": "code",
   "execution_count": 8,
   "metadata": {},
   "outputs": [],
   "source": [
    "import pylab\n",
    "def draw_pn_plot():\n",
    "    r\"\"\"\n",
    "    Function that plots the graphs of \\tan, p_1 and p_3\n",
    "    \"\"\"\n",
    "    xp= pylab.linspace(-(pylab.pi/3),pylab.pi/3,100)\n",
    "    y1= pn(1,xp)\n",
    "    y2= pn(2,xp)\n",
    "    y3= pn(3,xp)\n",
    "    y4= pylab.tan(xp)\n",
    "    pylab.plot(xp,y1,label=\"p_1(x)\")\n",
    "    pylab.plot(xp,y2,label=\"p_2(x)\")\n",
    "    pylab.plot(xp,y3,label=\"p_3(x)\")\n",
    "    pylab.plot(xp,y4,label=\"tan(x)\")\n",
    "    pylab.legend(loc='upper right')\n",
    "    pylab.xlabel('x')\n",
    "    pylab.ylabel('y')\n",
    "    pylab.show()"
   ]
  },
  {
   "cell_type": "code",
   "execution_count": 9,
   "metadata": {},
   "outputs": [
    {
     "data": {
      "image/png": "[encoded data removed]",
      "text/plain": [
       "<Figure size 432x288 with 1 Axes>"
      ]
     },
     "metadata": {
      "needs_background": "light"
     },
     "output_type": "display_data"
    }
   ],
   "source": [
    "draw_pn_plot()"
   ]
  },
  {
   "cell_type": "markdown",
   "metadata": {},
   "source": [
    "## Geometry\n",
    "\n",
    "For this question we will deal with geometry of the plane and we will use tuples to denote points and vectors. \n",
    "More precisely, if $\\bf{v}$ is a vector or point in the plane we represent it by the tuple of coordinates $\\bf{v}=(x,y)$. A similar representation can of course be used for vectors in arbitrary dimensions. \n",
    "\n",
    "We know that a straight line $L$ in the plane is uniquely determined by either of the following:\n",
    "\n",
    "- Two different points $P$ and $Q$ that lie on the line. \n",
    "- A point $P$ on the line together with a direction vector $\\bf{v}$\n",
    "\n",
    "and we will make use of both of these definitions. \n",
    "\n",
    "\n",
    "**a)** Write a function that computes the scalar product of two vectors of arbitrary but equal length.  \n",
    "           The function should Raise an assertion error if the input are not tuples of equal length containing integers or floats \n"
   ]
  },
  {
   "cell_type": "code",
   "execution_count": 10,
   "metadata": {},
   "outputs": [],
   "source": [
    "def scalar_product(v1,v2):\n",
    "    r\"\"\"\n",
    "    Calculate the scalar (dot) product between two vectors, v1 and v2, of arbitrary length.\n",
    "    \"\"\"\n",
    "    import numpy as np\n",
    "    assert (isinstance(v1,tuple) and isinstance(v2,tuple)), \"v1 and v2 must be tupples\"\n",
    "    assert len(v1)==len(v2), \"the length of v1 and v2 must be equal\"\n",
    "    assert (all(isinstance(x, int) for x in v1) and all(isinstance(x, int) for x in v2)) or (all(isinstance(x, float) for x in v1) and all(isinstance(x, float) for x in v2)), \"v1 and v2 should consist of floats or ints\"\n",
    "    sp= np.dot(v1,v2)\n",
    "    return sp\n",
    "    "
   ]
  },
  {
   "cell_type": "markdown",
   "metadata": {},
   "source": [
    "**b)** Write a program that takes as input two points $P$ and $Q$ in the plane and returns a vector that is perpendicular to the line through $P$ and $Q$ and has length equal to 1 "
   ]
  },
  {
   "cell_type": "code",
   "execution_count": 11,
   "metadata": {},
   "outputs": [],
   "source": [
    "def vector_perpendicular(P,Q):\n",
    "    \"\"\"\n",
    "    Find a vector that is perpendicular to the line between two points P and Q in the plane.  \n",
    "    \"\"\"\n",
    "    import numpy as np\n",
    "    \n",
    "    if np.dot(P,Q)==0:\n",
    "        return P\n",
    "    elif len(P)==len(Q)==3:\n",
    "        c= np.cross(P,Q)\n",
    "        return c\n",
    "    else :\n",
    "        dy=(Q[1]-P[1])\n",
    "        dx=(Q[0]-P[0])\n",
    "        c= (dy,-dx)\n",
    "        return c"
   ]
  },
  {
   "cell_type": "markdown",
   "metadata": {},
   "source": [
    "## Intersection between two lines \n",
    "\n",
    "Write a function that computes the point of intersection between two lines in the plane given in the format (P,v) where P is a point and v a vector (both given by tuples of length 2). If the lines are parallell then the function should raise an AssertionError. \n",
    "\n",
    "Hint: If we are given the lines in parameter format\n",
    "$$\n",
    "L_1: s\\mapsto  P_1 + s\\mathbf{v_1} \\quad L_2: t\\mapsto P_2 + t\\mathbf{v_2}\n",
    "$$\n",
    "then we need to solve the linear system of equations $L_1(s)=L_2(t)$ for $s$ and $t$.\n",
    "If $P_i=(a_i,c_i)$ and $\\mathbf{v}_i = (b_i,d_i)$ then the system of equations take the form:\n",
    "$$\n",
    "   a_1 + b_1 s = a_2 + b_2 t\\\\\n",
    "   c_1 + d_1 s = c_2 + d_2 t\n",
    "$$\n",
    "and the aim is to find $s$ and $t$ in terms of the other coefficients. \n",
    "You also need to find out how you can tell from the coefficients if the two lines are parallel or not"
   ]
  },
  {
   "cell_type": "code",
   "execution_count": 12,
   "metadata": {},
   "outputs": [],
   "source": [
    "def intersection_lines(L1,L2):\n",
    "    \"\"\"\n",
    "    Find the intersection point of the two lines L1 and L2 given by two tuples L1=(P1,v1) and L2=(P2,v2) \n",
    "    where the points P1, P2 and the vectors v1 and v2 are all represented by tuples of length 2. \n",
    "    \n",
    "    If the vectors v1 and v2 are parallell then we raise an assertion error. \n",
    "    \"\"\"\n",
    "    import numpy as np\n",
    "    dy1=(L1[1][1])*(L2[1][0])\n",
    "    dy2=(L2[1][1])*(L1[1][0])\n",
    "    assert dy1 != dy2, \"lines are parallel\"\n",
    "    Q1=[]\n",
    "    b1=L1[1][0]\n",
    "    b2=L2[1][0]\n",
    "    d1=L1[1][1]\n",
    "    d2=L2[1][1]\n",
    "    a= int(L2[0][0]-L1[0][0])\n",
    "    c= int(L2[0][1]-L1[0][1])\n",
    "    A=np.array([[b1,-b2],[d1,-d2]])\n",
    "    B=np.array([[a],[c]])\n",
    "    X=list(np.linalg.solve(A,B))\n",
    "    a1=int(L1[0][0])\n",
    "    c1=int(L1[0][1])\n",
    "    xx= a1+ b1 * X[0]\n",
    "    yy= c1+ d1* X[0]\n",
    "    xlist=np.array(xx).tolist()\n",
    "    ylist=np.array(yy).tolist()\n",
    "    Q1.extend(xlist)\n",
    "    Q1.extend(ylist)\n",
    "    return(Q1)"
   ]
  },
  {
   "cell_type": "code",
   "execution_count": null,
   "metadata": {},
   "outputs": [],
   "source": []
  }
 ],
 "metadata": {
  "kernelspec": {
   "display_name": "Python 3",
   "language": "python",
   "name": "python3"
  },
  "language_info": {
   "codemirror_mode": {
    "name": "ipython",
    "version": 3
   },
   "file_extension": ".py",
   "mimetype": "text/x-python",
   "name": "python",
   "nbconvert_exporter": "python",
   "pygments_lexer": "ipython3",
   "version": "3.8.5"
  }
 },
 "nbformat": 4,
 "nbformat_minor": 4
}
