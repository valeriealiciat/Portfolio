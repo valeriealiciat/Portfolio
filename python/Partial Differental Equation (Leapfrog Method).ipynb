{
 "cells": [
  {
   "cell_type": "markdown",
   "metadata": {},
   "source": [
    "Firstly, we import the libraries required "
   ]
  },
  {
   "cell_type": "code",
   "execution_count": 2,
   "metadata": {},
   "outputs": [],
   "source": [
    "import numpy as np \n",
    "import math\n",
    "import matplotlib.pyplot as plt\n",
    "import pandas as pd"
   ]
  },
  {
   "cell_type": "markdown",
   "metadata": {},
   "source": [
    "We are considering the Laplace equation $∇^{2}u=0$ in the square\n",
    "\n",
    "$$0<x<1$$ $$0<y<1$$\n",
    "\n",
    "with Dirichlet boundary conditions\n",
    "\n",
    "$$u(0,y)= 2sin(2πy)$$ $$u(x,0)= sin(2πx)$$ $$u(1,y)= 2sin(2πy)$$\n",
    "$$u(x,1)= sin(2πy)$$\n",
    "$$0≤ y≤ 1$$ $$0≤ x≤ 1$$\n"
   ]
  },
  {
   "cell_type": "markdown",
   "metadata": {},
   "source": [
    "Firstly, we define our known variables and calculate the number of points in the interval with specified time step,h."
   ]
  },
  {
   "cell_type": "code",
   "execution_count": 2,
   "metadata": {},
   "outputs": [
    {
     "data": {
      "text/plain": [
       "10.0"
      ]
     },
     "execution_count": 2,
     "metadata": {},
     "output_type": "execute_result"
    }
   ],
   "source": [
    "#time step\n",
    "h=0.1\n",
    "N=(1-0)/0.1\n",
    "\n",
    "N"
   ]
  },
  {
   "cell_type": "markdown",
   "metadata": {},
   "source": [
    "This implies that there are 10 steps. Since we know that there are N+1 points, we have 11 discrete time points."
   ]
  },
  {
   "cell_type": "code",
   "execution_count": 3,
   "metadata": {},
   "outputs": [
    {
     "data": {
      "text/plain": [
       "array([0. , 0.1, 0.2, 0.3, 0.4, 0.5, 0.6, 0.7, 0.8, 0.9, 1. ])"
      ]
     },
     "execution_count": 3,
     "metadata": {},
     "output_type": "execute_result"
    }
   ],
   "source": [
    "#discrete time points\n",
    "x = np.linspace(0,1,11)\n",
    "y = np.linspace(0,1,11)\n",
    "\n",
    "x"
   ]
  },
  {
   "cell_type": "markdown",
   "metadata": {},
   "source": [
    "Thus, we will compute a code to illustrate the points on a 2-D mesh grid.\n",
    "\n",
    "since the graph will be a square of 11x11 (x versus y),we will be using mesh grid to create such a square matrix consisting of our discrete time points to help us graph our 2-D grid."
   ]
  },
  {
   "cell_type": "code",
   "execution_count": 4,
   "metadata": {},
   "outputs": [],
   "source": [
    "xx, yy = np.meshgrid(x,y)"
   ]
  },
  {
   "cell_type": "markdown",
   "metadata": {},
   "source": [
    "Next, we create the scatter plot. with red dots representing known values and blue dots representing unknown values. Since the points on the borders are known, we have a total of 81 unknown points."
   ]
  },
  {
   "cell_type": "code",
   "execution_count": 5,
   "metadata": {
    "scrolled": true
   },
   "outputs": [
    {
     "data": {
      "text/plain": [
       "<Figure size 432x288 with 0 Axes>"
      ]
     },
     "metadata": {},
     "output_type": "display_data"
    },
    {
     "data": {
      "image/png": "[encoded data removed]",
      "text/plain": [
       "<Figure size 432x432 with 2 Axes>"
      ]
     },
     "metadata": {
      "needs_background": "light"
     },
     "output_type": "display_data"
    }
   ],
   "source": [
    "#creating a scatter plot with appropriate labels\n",
    "fig = plt.figure()\n",
    "\n",
    "fig, ax1 = plt.subplots(figsize=(6,6))\n",
    "\n",
    "ax1.scatter(xx, yy, color='r')\n",
    "ax1.set_xlabel('u=sin(2πx)') #for u(x,0)\n",
    "ax1.set_ylabel('u=2sin(2πy)') #for u(0,y)\n",
    "plt.title('Discrete points in 2D (x versus y)\\n\\n u=sin(2πx)') #for u(x,1)\n",
    "\n",
    "ax2 = ax1.twinx()\n",
    "ax2.set_ylabel('u=2sin(2πy)') #for u(1,y)\n",
    "\n",
    "#coloring the known points\n",
    "for i in range(11):\n",
    "    ax1.scatter(0,y[i],color='b')\n",
    "    ax1.scatter(x[i],0,color='b')\n",
    "    ax1.scatter(1,y[i],color='b')\n",
    "    ax1.scatter(x[i],1,color='b')\n",
    "\n",
    "    \n",
    "#annotating the unknown points corresponding to numbers.\n",
    "n = range(1,10)\n",
    "for i, label, in enumerate(n):\n",
    "        ax1.annotate(label, (xx[1][i+1], yy[1][i]))\n",
    "        \n",
    "n1 = range(10,19)\n",
    "for i, label, in enumerate(n1):\n",
    "        ax1.annotate(label, (xx[2][i+1], yy[2][i]))\n",
    "\n",
    "n2 = range(19,28)\n",
    "for i, label, in enumerate(n2):\n",
    "        ax1.annotate(label, (xx[3][i+1], yy[3][i]))\n",
    "    \n",
    "n3 = range(28,37)\n",
    "for i, label, in enumerate(n3):\n",
    "        ax1.annotate(label, (xx[4][i+1], yy[4][i]))\n",
    "        \n",
    "n4 = range(37,46)\n",
    "for i, label, in enumerate(n4):\n",
    "        ax1.annotate(label, (xx[5][i+1], yy[5][i]))\n",
    "\n",
    "n5 = range(46,55)\n",
    "for i, label, in enumerate(n5):\n",
    "        ax1.annotate(label, (xx[6][i+1], yy[6][i]))\n",
    "\n",
    "n6 = range(55,64)\n",
    "for i, label, in enumerate(n6):\n",
    "        ax1.annotate(label, (xx[7][i+1], yy[7][i]))\n",
    "\n",
    "n7 = range(64,73)\n",
    "for i, label, in enumerate(n7):\n",
    "        ax1.annotate(label, (xx[8][i+1], yy[8][i]))\n",
    "        \n",
    "n8 = range(73,82)\n",
    "for i, label, in enumerate(n8):\n",
    "        ax1.annotate(label, (xx[9][i+1], yy[9][i]))\n",
    "\n",
    "\n",
    "\n"
   ]
  },
  {
   "cell_type": "markdown",
   "metadata": {},
   "source": [
    "\n",
    "\n",
    "The values of u on the boundary are known, so there are 81 discrete points where $u_{j,k}$ is unknown\n",
    "\n",
    "\n",
    "Using the five-point Laplacian, we know that each discrete point has its own equation,\n",
    "\n",
    "$$\\frac{u_{j+1,k} + u_{j-1,k} + u_{j,k+1}+ u_{j,k-1} -4u_{j,k}}{h^{2}} =0 $$\n",
    "\n",
    "To simplify, we will number u at these points u1, u2,....,u81 as in the diagram we constructed."
   ]
  },
  {
   "cell_type": "markdown",
   "metadata": {},
   "source": [
    "Using the five-point Laplacian, we can compute the 81 equations for our 81 unknown points\n",
    "\n",
    "point 1: $u_{2}+sin(2πx)+u_{10}+sin(2πx)-4u_{1} =0$\n",
    "<br>\n",
    "point 2: $u_{3}+u_{1}+u_{11}+sin(2πx)-4u_{2} =0$\n",
    "<br>\n",
    "point 3: $u_{4}+u_{2}+u_{12}+sin(2πx)-4u_{3} =0$\n",
    "<br>\n",
    "\n",
    "\n",
    "And so on.\n",
    "\n",
    "From these equations, we can see that the pattern of the equation can be represented by a linear system which can be writen in the form of Mu=b\n",
    "\n",
    "<br>\n",
    "We are going to construct a 81x81 matrix with the form Mu= b where matrix M is writen in the following form \n",
    " \n",
    "<center>\n",
    "    $\\begin{bmatrix} \n",
    "   J & I & 0 & 0 & 0 & 0 & 0 & 0 & 0\n",
    "\\\\ I & J & I & 0 & 0 & 0 & 0 & 0 & 0\n",
    "\\\\ 0 & I & J & I & 0 & 0 & 0 & 0 & 0 \n",
    "\\\\ 0 & 0 & I & J & I & 0 & 0 & 0 & 0\n",
    "\\\\ 0 & 0 & 0 & I & J & I & 0 & 0 & 0 \n",
    "\\\\ 0 & 0 & 0 & 0 & I & J & I & 0 & 0\n",
    "\\\\ 0 & 0 & 0 & 0 & 0 & I & J & I & 0\n",
    "\\\\ 0 & 0 & 0 & 0 & 0 & 0 & I & J & I\n",
    "\\\\ 0 & 0 & 0 & 0 & 0 & 0 & 0 & I & J\n",
    "\\end{bmatrix} $\n",
    "\n",
    "\n",
    ",where J is the 9x9 matrix\n",
    "\n",
    "\n",
    "<center>\n",
    "$\\begin{bmatrix} \n",
    "   -4 & 1 & 0 & 0 & 0 & 0 & 0 & 0 & 0\n",
    "\\\\ 1 & -4 & 1 & 0 & 0 & 0 & 0 & 0 & 0\n",
    "\\\\ 0 & 1 & -4 & 1 & 0 & 0 & 0 & 0 & 0 \n",
    "\\\\ 0 & 0 & 1 & -4 & 1 & 0 & 0 & 0 & 0\n",
    "\\\\ 0 & 0 & 0 & 1 & -4 & 1 & 0 & 0 & 0 \n",
    "\\\\ 0 & 0 & 0 & 0 & 1 & -4 & 1 & 0 & 0\n",
    "\\\\ 0 & 0 & 0 & 0 & 0 & 0 & -4 & 1 & 0\n",
    "\\\\ 0 & 0 & 0 & 0 & 0 & 0 & 1 & -4 & 1\n",
    "\\\\ 0 & 0 & 0 & 0 & 0 & 0 & 0 & 1 & -4\n",
    "\\end{bmatrix} $\n",
    "   \n",
    "<br> and I is the 9x9 identity matrix\n",
    "    \n",
    "    "
   ]
  },
  {
   "cell_type": "markdown",
   "metadata": {},
   "source": [
    "Finally, we use this equation to solve for u"
   ]
  },
  {
   "cell_type": "markdown",
   "metadata": {},
   "source": [
    "The first step is to generate a code that computes the matrix J"
   ]
  },
  {
   "cell_type": "code",
   "execution_count": 6,
   "metadata": {
    "scrolled": true
   },
   "outputs": [
    {
     "data": {
      "text/plain": [
       "array([[-4.,  1.,  0.,  0.,  0.,  0.,  0.,  0.,  0.],\n",
       "       [ 1., -4.,  1.,  0.,  0.,  0.,  0.,  0.,  0.],\n",
       "       [ 0.,  1., -4.,  1.,  0.,  0.,  0.,  0.,  0.],\n",
       "       [ 0.,  0.,  1., -4.,  1.,  0.,  0.,  0.,  0.],\n",
       "       [ 0.,  0.,  0.,  1., -4.,  1.,  0.,  0.,  0.],\n",
       "       [ 0.,  0.,  0.,  0.,  1., -4.,  1.,  0.,  0.],\n",
       "       [ 0.,  0.,  0.,  0.,  0.,  1., -4.,  1.,  0.],\n",
       "       [ 0.,  0.,  0.,  0.,  0.,  0.,  1., -4.,  1.],\n",
       "       [ 0.,  0.,  0.,  0.,  0.,  0.,  0.,  1., -4.]])"
      ]
     },
     "execution_count": 6,
     "metadata": {},
     "output_type": "execute_result"
    }
   ],
   "source": [
    "from scipy.sparse import diags\n",
    "import numpy as np\n",
    "\n",
    "n = 9\n",
    "k = [np.ones(n-1),-4*np.ones(n),np.ones(n-1)]\n",
    "offset = [-1,0,1]\n",
    "A = diags(k,offset).toarray() \n",
    "A #matrix J\n"
   ]
  },
  {
   "cell_type": "markdown",
   "metadata": {},
   "source": [
    "Then, we are going to construct an Identity matrix and a matrix of zero both of size 9x9 and use all three matrices to generate the matrix A"
   ]
  },
  {
   "cell_type": "code",
   "execution_count": 7,
   "metadata": {},
   "outputs": [
    {
     "data": {
      "text/plain": [
       "array([[-4.,  1.,  0., ...,  0.,  0.,  0.],\n",
       "       [ 1., -4.,  1., ...,  0.,  0.,  0.],\n",
       "       [ 0.,  1., -4., ...,  0.,  0.,  0.],\n",
       "       ...,\n",
       "       [ 0.,  0.,  0., ..., -4.,  1.,  0.],\n",
       "       [ 0.,  0.,  0., ...,  1., -4.,  1.],\n",
       "       [ 0.,  0.,  0., ...,  0.,  1., -4.]])"
      ]
     },
     "execution_count": 7,
     "metadata": {},
     "output_type": "execute_result"
    }
   ],
   "source": [
    "\n",
    "B= np.eye(9) #identity matrix\n",
    "C= np.zeros((9,9)) #zero matrix\n",
    "\n",
    "#we use np.block to combine the parts of matrices to form matrix M\n",
    "M=np.block([[A,B,C,C,C,C,C,C,C], \n",
    "            [B,A,B,C,C,C,C,C,C],\n",
    "            [C,B,A,B,C,C,C,C,C],\n",
    "            [C,C,B,A,B,C,C,C,C],\n",
    "            [C,C,C,B,A,B,C,C,C],\n",
    "            [C,C,C,C,B,A,B,C,C],\n",
    "            [C,C,C,C,C,B,A,B,C],\n",
    "            [C,C,C,C,C,C,B,A,B],\n",
    "            [C,C,C,C,C,C,C,B,A]])\n",
    "\n",
    "M"
   ]
  },
  {
   "cell_type": "markdown",
   "metadata": {},
   "source": [
    "Now, we construct the vector b. Firstly, note that b is a vector that consists of constants from the LHS. Thus from the previous point equations,\n",
    "<br>\n",
    "<center> point 1: $u_{2}+sin(2πx)+u_{10}+2sin(2πy)-4u_{1} =0$\n",
    "<br>\n",
    "<center> point 2: $u_{3}+u_{1}+u_{11}+sin(2πx)-4u_{2} =0$\n",
    "<br>\n",
    "<center> point 3: $u_{4}+u_{2}+u_{12}+sin(2πx)-4u_{3} =0$\n",
    "<br>\n",
    "\n",
    "and so on..\n",
    "<br>\n",
    "The first three elements of the b vector is\n",
    "$\\begin{bmatrix} \n",
    "-sin(2πx)-2sin(2πy)\\\\-sin(2πx)\\\\-sin(2πx)\n",
    "\\end{bmatrix} $\n",
    "and so on...\n",
    "<br>\n",
    "<br>\n",
    "<br>\n",
    "Thus, it is apparant that all the corners have the equation\n",
    "$$-sin(2πx)-2sin(2πy)$$\n",
    "<br><br>\n",
    "While the vertical sides (excluding corner points) have the equation\n",
    "$$-2sin(2πy)$$\n",
    "<br><br>\n",
    "And the horizontal sides (excluding corner points) have the equation\n",
    "$$-sin(2πx)$$\n",
    "<br>While the remaining points are zero<br>\n",
    "Thus, we compute the known points using the mesh grid graph as reference"
   ]
  },
  {
   "cell_type": "code",
   "execution_count": 8,
   "metadata": {
    "scrolled": true
   },
   "outputs": [
    {
     "data": {
      "text/plain": [
       "array([-1.76335576e+00, -9.51056516e-01, -9.51056516e-01, -5.87785252e-01,\n",
       "       -1.22464680e-16,  5.87785252e-01,  9.51056516e-01,  9.51056516e-01,\n",
       "       -5.87785252e-01, -1.90211303e+00,  0.00000000e+00,  0.00000000e+00,\n",
       "        0.00000000e+00,  0.00000000e+00,  0.00000000e+00,  0.00000000e+00,\n",
       "        0.00000000e+00, -1.90211303e+00, -1.90211303e+00,  0.00000000e+00,\n",
       "        0.00000000e+00,  0.00000000e+00,  0.00000000e+00,  0.00000000e+00,\n",
       "        0.00000000e+00,  0.00000000e+00, -1.90211303e+00, -1.17557050e+00,\n",
       "        0.00000000e+00,  0.00000000e+00,  0.00000000e+00,  0.00000000e+00,\n",
       "        0.00000000e+00,  0.00000000e+00,  0.00000000e+00, -1.17557050e+00,\n",
       "       -2.44929360e-16,  0.00000000e+00,  0.00000000e+00,  0.00000000e+00,\n",
       "        0.00000000e+00,  0.00000000e+00,  0.00000000e+00,  0.00000000e+00,\n",
       "       -2.44929360e-16,  1.17557050e+00,  0.00000000e+00,  0.00000000e+00,\n",
       "        0.00000000e+00,  0.00000000e+00,  0.00000000e+00,  0.00000000e+00,\n",
       "        0.00000000e+00,  1.17557050e+00,  1.90211303e+00,  0.00000000e+00,\n",
       "        0.00000000e+00,  0.00000000e+00,  0.00000000e+00,  0.00000000e+00,\n",
       "        0.00000000e+00,  0.00000000e+00,  1.90211303e+00,  1.90211303e+00,\n",
       "        0.00000000e+00,  0.00000000e+00,  0.00000000e+00,  0.00000000e+00,\n",
       "        0.00000000e+00,  0.00000000e+00,  0.00000000e+00,  1.90211303e+00,\n",
       "        5.87785252e-01, -9.51056516e-01, -9.51056516e-01, -5.87785252e-01,\n",
       "       -1.22464680e-16,  5.87785252e-01,  9.51056516e-01,  9.51056516e-01,\n",
       "        1.76335576e+00])"
      ]
     },
     "execution_count": 8,
     "metadata": {},
     "output_type": "execute_result"
    }
   ],
   "source": [
    "#firstly create an array of zeros of size 81\n",
    "points= np.zeros(81) \n",
    "\n",
    "#we compute the points in the corner using the five-point Laplacian\n",
    "points[0]= -2*np.sin(2*np.pi*0.1)-np.sin(2*np.pi*0.1)\n",
    "points[8]= -2*np.sin(2*np.pi*0.1)-np.sin(2*np.pi*0.9)\n",
    "points[72]= -2*np.sin(2*np.pi*0.9)-np.sin(2*np.pi*0.1)\n",
    "points[80]= -2*np.sin(2*np.pi*0.9)-np.sin(2*np.pi*0.9)\n",
    "\n",
    "\n",
    "#initiate loop to compute all the remaining known points\n",
    "for i in range(7):\n",
    "    points[i+1]= -np.sin(0.2*np.pi*(i+2))\n",
    "\n",
    "for i in range(7):\n",
    "    points[i+73]= -np.sin(0.2*np.pi*(i+2))\n",
    "    \n",
    "for i in range(7):\n",
    "    points[9*(i+1)]= -2*np.sin(0.2*np.pi*(i+2))\n",
    "\n",
    "for i in range(7):\n",
    "    points[9*(i+1)+8]= -2*np.sin(0.2*np.pi*(i+2))\n",
    "\n",
    "\n",
    "points #b matrix"
   ]
  },
  {
   "cell_type": "markdown",
   "metadata": {},
   "source": [
    "Finally, after obtaining the matrices for M and b, we solve using np.linalg.solve to get the unknown values of u.\n",
    "\n",
    "Note that the discrete time points is between the interval (0.1,0.9) and has a total of 9 points since we are calculating the unknown values between the interval (0.1,0.9)."
   ]
  },
  {
   "cell_type": "code",
   "execution_count": 9,
   "metadata": {},
   "outputs": [],
   "source": [
    "O=np.linalg.solve(M,points)\n",
    "\n",
    "#here, we set the interval to be (0.1,0.9) and create a meshgrid\n",
    "X=np.linspace(0.1,0.9, 9)\n",
    "Y=np.linspace(0.1,0.9, 9)\n",
    "XX, YY = np.meshgrid(X,Y)\n",
    "\n",
    "#reshape the meshgrid into a vector\n",
    "xx=np.reshape(XX,(1,81))\n",
    "yy=np.reshape(YY,(1,81))"
   ]
  },
  {
   "cell_type": "markdown",
   "metadata": {},
   "source": [
    "Using the data above, we can plot the approximating solution of the Laplace equation with the above Dirichlet boundary conditions."
   ]
  },
  {
   "cell_type": "code",
   "execution_count": 10,
   "metadata": {},
   "outputs": [
    {
     "data": {
      "text/plain": [
       "Text(0.5, 0.92, 'Approximated Solution')"
      ]
     },
     "execution_count": 10,
     "metadata": {},
     "output_type": "execute_result"
    },
    {
     "data": {
      "image/png": "[encoded data removed]",
      "text/plain": [
       "<Figure size 432x288 with 1 Axes>"
      ]
     },
     "metadata": {
      "needs_background": "light"
     },
     "output_type": "display_data"
    }
   ],
   "source": [
    "#initialize 3D plot\n",
    "fig = plt.figure()\n",
    "ax = fig.add_subplot(projection='3d')\n",
    "ax.scatter(xx, yy, O)\n",
    "\n",
    "#execute plot\n",
    "ax.set_xlabel('X')\n",
    "ax.set_ylabel('Y')\n",
    "ax.set_zlabel('b')\n",
    "ax.set_title('Approximated Solution')"
   ]
  },
  {
   "cell_type": "code",
   "execution_count": null,
   "metadata": {},
   "outputs": [],
   "source": []
  }
 ],
 "metadata": {
  "kernelspec": {
   "display_name": "Python 3",
   "language": "python",
   "name": "python3"
  },
  "language_info": {
   "codemirror_mode": {
    "name": "ipython",
    "version": 3
   },
   "file_extension": ".py",
   "mimetype": "text/x-python",
   "name": "python",
   "nbconvert_exporter": "python",
   "pygments_lexer": "ipython3",
   "version": "3.8.5"
  }
 },
 "nbformat": 4,
 "nbformat_minor": 4
}
