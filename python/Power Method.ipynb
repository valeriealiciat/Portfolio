{
 "cells": [
  {
   "cell_type": "markdown",
   "metadata": {},
   "source": [
    "Firstly, we import the libraries required for this question"
   ]
  },
  {
   "cell_type": "code",
   "execution_count": 1,
   "metadata": {},
   "outputs": [],
   "source": [
    "import numpy as np \n",
    "import math\n",
    "import matplotlib.pyplot as plt\n"
   ]
  },
  {
   "cell_type": "markdown",
   "metadata": {},
   "source": [
    "We will be using the power method to approximate the largest eigenvalue and its associated eigenvector of the matrix\n",
    "\n",
    "<center> $ M = \\begin{bmatrix} \n",
    "  -2 & 1 & 0 & 0\n",
    "\\\\ 1 & -2 & 1 & 0\n",
    "\\\\ 0 & 1 & -2 & 1\n",
    "\\\\ 0 & 0 & 1 & -2\n",
    "\\end{bmatrix} \n",
    "y^{(0)} = \n",
    "\\begin{bmatrix} \n",
    "   1\n",
    "\\\\ 0\n",
    "\\\\ 0 \n",
    "\\\\ 0 \n",
    "\\end{bmatrix} $"
   ]
  },
  {
   "cell_type": "markdown",
   "metadata": {},
   "source": [
    "We define the Matrix"
   ]
  },
  {
   "cell_type": "code",
   "execution_count": 2,
   "metadata": {},
   "outputs": [],
   "source": [
    "A = np.array([[-2, 1, 0, 0], \n",
    "              [1, -2, 1, 0],\n",
    "              [0, 1, -2, 1],\n",
    "              [0, 0, 1, -2]])"
   ]
  },
  {
   "cell_type": "markdown",
   "metadata": {},
   "source": [
    "First choose a starting vector y0"
   ]
  },
  {
   "cell_type": "code",
   "execution_count": 10,
   "metadata": {},
   "outputs": [],
   "source": [
    "x = np.array([[1,0,0,0]]).T"
   ]
  },
  {
   "cell_type": "markdown",
   "metadata": {},
   "source": [
    "Define the tolerance for the approximated eigenvalue and the eigen vector to ensure accuracy between exact and approximated solution."
   ]
  },
  {
   "cell_type": "code",
   "execution_count": 53,
   "metadata": {},
   "outputs": [],
   "source": [
    "tol = 1e-36"
   ]
  },
  {
   "cell_type": "markdown",
   "metadata": {},
   "source": [
    "Next, we define the maximum number of iterations "
   ]
  },
  {
   "cell_type": "code",
   "execution_count": 54,
   "metadata": {},
   "outputs": [],
   "source": [
    "maxit = 100"
   ]
  },
  {
   "cell_type": "markdown",
   "metadata": {},
   "source": [
    "Define a variable to store previous approximations"
   ]
  },
  {
   "cell_type": "code",
   "execution_count": 55,
   "metadata": {},
   "outputs": [],
   "source": [
    "prev = 0"
   ]
  },
  {
   "cell_type": "markdown",
   "metadata": {},
   "source": [
    "Initiallize loop to iterate using the power method to approximate the largest eigenvector and eigenvalue.\n",
    "\n",
    "The formula we use is the following :\n",
    "\n",
    "$$x_{i+1} = \\frac{Ax_{i}}{|Ax_{i}|}$$\n",
    "\n",
    "Where:\n",
    "- $|Ax_{i}|$ : Euclidean norm of vector $Ax_{i}$\n",
    "\n",
    "Then, we also calculate the approximated largest eigenvalue of the matrix by applying the equation:\n",
    "\n",
    "$$λ_{i}= \\frac{x_{i}^{T} Ax_{i}}{x_{i}^{T}x_{i}} $$\n",
    "\n",
    "The convergence of the largest eigenvector and eigenvalue will be checked by using the difference between the current approximation and the previous value. We iterate until it reaches the tolerance value or when it reaches the maximum iteration.\n"
   ]
  },
  {
   "cell_type": "code",
   "execution_count": 58,
   "metadata": {
    "scrolled": true
   },
   "outputs": [
    {
     "name": "stdout",
     "output_type": "stream",
     "text": [
      "-3.618033988749895\n",
      "[[-0.37174804]\n",
      " [ 0.60150096]\n",
      " [-0.60150095]\n",
      " [ 0.37174803]]\n"
     ]
    }
   ],
   "source": [
    "#initiate iteration\n",
    "for i in range(maxit):\n",
    "    # Calculate approximated eigenvector\n",
    "    x = A@x / np.linalg.norm(A@x)\n",
    "  \n",
    "    # # Calculate approximated eigenvalue\n",
    "    eig = ( x.T@A@x ) / ( x.T@x )\n",
    "  \n",
    "    # Check reaults using tolerance\n",
    "    if np.abs( eig-prev ) < tol:\n",
    "        break\n",
    "  \n",
    "    # Store current value\n",
    "    prev = eig\n",
    "  \n",
    "\n",
    "#print\n",
    "print(float(eig))\n",
    "print(x)"
   ]
  },
  {
   "cell_type": "markdown",
   "metadata": {},
   "source": [
    "We calculate the exact eigenvalue and eigenvector"
   ]
  },
  {
   "cell_type": "code",
   "execution_count": 59,
   "metadata": {},
   "outputs": [
    {
     "data": {
      "text/plain": [
       "(array([-3.61803399, -2.61803399, -0.38196601, -1.38196601]),\n",
       " array([[ 0.37174803,  0.60150096, -0.37174803, -0.60150096],\n",
       "        [-0.60150096, -0.37174803, -0.60150096, -0.37174803],\n",
       "        [ 0.60150096, -0.37174803, -0.60150096,  0.37174803],\n",
       "        [-0.37174803,  0.60150096, -0.37174803,  0.60150096]]))"
      ]
     },
     "execution_count": 59,
     "metadata": {},
     "output_type": "execute_result"
    }
   ],
   "source": [
    "np.linalg.eig(A) # to approximate exact eigenvalue and eigenvector"
   ]
  },
  {
   "cell_type": "code",
   "execution_count": null,
   "metadata": {},
   "outputs": [],
   "source": []
  }
 ],
 "metadata": {
  "kernelspec": {
   "display_name": "Python 3",
   "language": "python",
   "name": "python3"
  },
  "language_info": {
   "codemirror_mode": {
    "name": "ipython",
    "version": 3
   },
   "file_extension": ".py",
   "mimetype": "text/x-python",
   "name": "python",
   "nbconvert_exporter": "python",
   "pygments_lexer": "ipython3",
   "version": "3.8.5"
  }
 },
 "nbformat": 4,
 "nbformat_minor": 4
}
